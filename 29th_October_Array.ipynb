{
 "cells": [
  {
   "cell_type": "markdown",
   "id": "68a4a157-f035-4dba-8b60-44514e3c19f9",
   "metadata": {},
   "source": [
    "#### 1. Given an array, check if it contains any duplicates or not. \n",
    "\n",
    "arr = [1, 2, 4, 2, 5, 9] "
   ]
  },
  {
   "cell_type": "code",
   "execution_count": 1,
   "id": "794e1300-afa1-4e6b-be1f-af48f66567a2",
   "metadata": {},
   "outputs": [
    {
     "name": "stdout",
     "output_type": "stream",
     "text": [
      "The array contains duplicates.\n"
     ]
    }
   ],
   "source": [
    "arr = [1, 2, 4, 2, 5, 9]\n",
    "\n",
    "def contains_duplicates(array):\n",
    "    # Convert the array to a set\n",
    "    unique_elements = set(array)\n",
    "\n",
    "    # Compare the lengths\n",
    "    if len(array) == len(unique_elements):\n",
    "        return False  # No duplicates\n",
    "    else:\n",
    "        return True  # Contains duplicates\n",
    "\n",
    "# Check if the array contains duplicates\n",
    "result = contains_duplicates(arr)\n",
    "\n",
    "if result:\n",
    "    print(\"The array contains duplicates.\")\n",
    "else:\n",
    "    print(\"The array does not contain duplicates.\")"
   ]
  },
  {
   "cell_type": "markdown",
   "id": "31c23189-2bd8-4fa1-b21a-f33487e0ae1f",
   "metadata": {},
   "source": [
    "### 2. Given an array and an integer k, rotate the array to the right by k steps. \n",
    "\n",
    "arr = [1, 2, 3, 4, 5, 6, 7] k = 3 "
   ]
  },
  {
   "cell_type": "code",
   "execution_count": 2,
   "id": "c40736a5-e06a-46b2-a4f0-f13a18b2bde1",
   "metadata": {},
   "outputs": [
    {
     "name": "stdout",
     "output_type": "stream",
     "text": [
      "[5, 6, 7, 1, 2, 3, 4]\n"
     ]
    }
   ],
   "source": [
    "def rotate_array(arr, k):\n",
    "    n = len(arr)\n",
    "    k = k % n  # Ensure k is within the range of the array length\n",
    "\n",
    "    # Rotate the array using slicing\n",
    "    rotated_array = arr[-k:] + arr[:-k]\n",
    "\n",
    "    return rotated_array\n",
    "\n",
    "# Example usage:\n",
    "arr = [1, 2, 3, 4, 5, 6, 7]\n",
    "k = 3\n",
    "\n",
    "rotated_result = rotate_array(arr, k)\n",
    "print(rotated_result)"
   ]
  },
  {
   "cell_type": "markdown",
   "id": "0f149f25-6d8a-4ba9-bf1b-8124c907780e",
   "metadata": {},
   "source": [
    "#### 3. Reverse the given array in-place, means without using any extra data structure. \n",
    "\n",
    "arr = [2, 4, 5, 7, 9, 12] "
   ]
  },
  {
   "cell_type": "code",
   "execution_count": 3,
   "id": "122480aa-4a41-4211-ba58-5f5ed3c4fa6c",
   "metadata": {},
   "outputs": [
    {
     "data": {
      "text/plain": [
       "[12, 9, 7, 5, 4, 2]"
      ]
     },
     "execution_count": 3,
     "metadata": {},
     "output_type": "execute_result"
    }
   ],
   "source": [
    "arr = [2, 4, 5, 7, 9, 12] \n",
    "\n",
    "reversed_arr = arr[::-1]\n",
    "\n",
    "# print the reversed array\n",
    "reversed_arr"
   ]
  },
  {
   "cell_type": "markdown",
   "id": "38e6f621-0824-426d-affe-e7a6f2026982",
   "metadata": {},
   "source": [
    "#### 4. Given an array of integers, find the maximum element in an array\n",
    "\n",
    " arr = [10, 5, 20, 8, 15]"
   ]
  },
  {
   "cell_type": "code",
   "execution_count": 4,
   "id": "95e74d69-6e07-4d32-a306-a579ee4b3382",
   "metadata": {},
   "outputs": [
    {
     "name": "stdout",
     "output_type": "stream",
     "text": [
      "The maximum element in the array is: 20\n"
     ]
    }
   ],
   "source": [
    "arr = [10, 5, 20, 8, 15]\n",
    "\n",
    "maximum = max(arr)\n",
    "\n",
    "print(f'The maximum element in the array is: {maximum}')"
   ]
  },
  {
   "cell_type": "markdown",
   "id": "7d001423-e8f4-4f62-a1a6-2fe954954a69",
   "metadata": {},
   "source": [
    "####  Given a sorted array, remove the duplicate element without using any extra data structure. \n",
    "\n",
    "arr = [1, 1, 2, 2, 2, 3, 3, 4, 4, 4, 5, 5] "
   ]
  },
  {
   "cell_type": "code",
   "execution_count": 5,
   "id": "4edaa01a-9960-4cad-8ffd-6e54fcd34254",
   "metadata": {},
   "outputs": [
    {
     "name": "stdout",
     "output_type": "stream",
     "text": [
      "The new array without duplicate is: {1, 2, 3, 4, 5}\n"
     ]
    }
   ],
   "source": [
    "arr = [1, 1, 2, 2, 2, 3, 3, 4, 4, 4, 5, 5]\n",
    "\n",
    "# removing the duplicate using set function\n",
    "new_arr = set(arr)\n",
    "\n",
    "# print the new array without duplicate\n",
    "print(f'The new array without duplicate is: {new_arr}')"
   ]
  },
  {
   "cell_type": "code",
   "execution_count": null,
   "id": "6da26d34-0271-49bd-a9ab-883cea4ef88e",
   "metadata": {},
   "outputs": [],
   "source": []
  }
 ],
 "metadata": {
  "kernelspec": {
   "display_name": "Python 3 (ipykernel)",
   "language": "python",
   "name": "python3"
  },
  "language_info": {
   "codemirror_mode": {
    "name": "ipython",
    "version": 3
   },
   "file_extension": ".py",
   "mimetype": "text/x-python",
   "name": "python",
   "nbconvert_exporter": "python",
   "pygments_lexer": "ipython3",
   "version": "3.10.8"
  }
 },
 "nbformat": 4,
 "nbformat_minor": 5
}
